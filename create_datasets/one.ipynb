{
 "cells": [
  {
   "cell_type": "code",
   "execution_count": 1,
   "metadata": {},
   "outputs": [],
   "source": [
    "from pathlib import Path\n",
    "import pickle"
   ]
  },
  {
   "cell_type": "code",
   "execution_count": 2,
   "metadata": {},
   "outputs": [],
   "source": [
    "# path = \"/home/haojun/DIffUCO/DatasetCreator/loadGraphDatasets/DatasetSolutions/no_norm/KS_one_3_1000/test/123/MIS/indexed/idx_0_solutions.pickle\"\n",
    "path = \"/home/haojun/DIffUCO/DatasetCreator/loadGraphDatasets/DatasetSolutions/no_norm/KS_5_5000/train/123/MIS/indexed/idx_0_solutions.pickle\""
   ]
  },
  {
   "cell_type": "code",
   "execution_count": 3,
   "metadata": {},
   "outputs": [],
   "source": [
    "with open(path, 'rb') as f:\n",
    "    graph = pickle.load(f)"
   ]
  },
  {
   "cell_type": "code",
   "execution_count": 4,
   "metadata": {},
   "outputs": [
    {
     "data": {
      "text/plain": [
       "dict_keys(['Energies', 'H_graphs', 'gs_bins', 'graph_sizes', 'densities', 'runtimes', 'upperBoundEnergies', 'compl_H_graphs', 'p', 'coordinate'])"
      ]
     },
     "execution_count": 4,
     "metadata": {},
     "output_type": "execute_result"
    }
   ],
   "source": [
    "graph.keys()"
   ]
  },
  {
   "cell_type": "code",
   "execution_count": 5,
   "metadata": {},
   "outputs": [],
   "source": [
    "s1 = graph['H_graphs'].senders"
   ]
  },
  {
   "cell_type": "code",
   "execution_count": 6,
   "metadata": {},
   "outputs": [],
   "source": [
    "s2 = graph['compl_H_graphs'].senders"
   ]
  },
  {
   "cell_type": "code",
   "execution_count": 7,
   "metadata": {},
   "outputs": [
    {
     "data": {
      "text/plain": [
       "GraphsTuple(nodes=array([[0.],\n",
       "       [0.],\n",
       "       [0.],\n",
       "       ...,\n",
       "       [0.],\n",
       "       [0.],\n",
       "       [0.]]), edges=array([[1.],\n",
       "       [1.],\n",
       "       [1.],\n",
       "       ...,\n",
       "       [1.],\n",
       "       [1.],\n",
       "       [1.]]), receivers=array([   3,    5,   11, ..., 4999, 4999, 4998]), senders=array([   0,    0,    0, ..., 4995, 4996, 4997]), globals=array([5000]), n_node=array([5000]), n_edge=array([1952202]))"
      ]
     },
     "execution_count": 7,
     "metadata": {},
     "output_type": "execute_result"
    }
   ],
   "source": [
    "graph['compl_H_graphs']"
   ]
  },
  {
   "cell_type": "code",
   "execution_count": 8,
   "metadata": {},
   "outputs": [],
   "source": [
    "save_path = \"/home/haojun/DIffUCO/create_datasets/G_5.txt\""
   ]
  },
  {
   "cell_type": "code",
   "execution_count": 9,
   "metadata": {},
   "outputs": [],
   "source": [
    "with open(save_path, 'w') as f:\n",
    "    f.write(f\"{graph['compl_H_graphs'].n_node.item()} {graph['compl_H_graphs'].n_edge.item()}\\n\")\n",
    "    for send, receive in zip(graph['compl_H_graphs'].senders, graph['compl_H_graphs'].receivers):\n",
    "        f.write(f\"1 {send+1} {receive+1}\\n\")"
   ]
  },
  {
   "cell_type": "code",
   "execution_count": 15,
   "metadata": {},
   "outputs": [
    {
     "name": "stdout",
     "output_type": "stream",
     "text": [
      "0 12\n"
     ]
    }
   ],
   "source": []
  },
  {
   "cell_type": "code",
   "execution_count": 2,
   "metadata": {},
   "outputs": [
    {
     "name": "stdout",
     "output_type": "stream",
     "text": [
      "3496\n",
      "3497\n",
      "3498\n",
      "3499\n"
     ]
    }
   ],
   "source": [
    "from pathlib import Path\n",
    "path = Path(\"/home/haojun/DIffUCO/DatasetCreator/loadGraphDatasets/DatasetSolutions/no_norm/KS_5_5000/train/123/MIS/indexed\")\n",
    "paths = [str(name) for name in path.iterdir()]\n",
    "for idx in range(4000):\n",
    "    name = f\"/home/haojun/DIffUCO/DatasetCreator/loadGraphDatasets/DatasetSolutions/no_norm/KS_5_5000/train/123/MIS/indexed/idx_{idx}_solutions.pickle\"\n",
    "    if name not in paths:\n",
    "        print(idx)"
   ]
  },
  {
   "cell_type": "code",
   "execution_count": null,
   "metadata": {},
   "outputs": [],
   "source": []
  }
 ],
 "metadata": {
  "kernelspec": {
   "display_name": "rayjay_clone",
   "language": "python",
   "name": "python3"
  },
  "language_info": {
   "codemirror_mode": {
    "name": "ipython",
    "version": 3
   },
   "file_extension": ".py",
   "mimetype": "text/x-python",
   "name": "python",
   "nbconvert_exporter": "python",
   "pygments_lexer": "ipython3",
   "version": "3.10.11"
  }
 },
 "nbformat": 4,
 "nbformat_minor": 2
}
