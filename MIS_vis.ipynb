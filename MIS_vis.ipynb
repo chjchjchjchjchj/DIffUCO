{
 "cells": [
  {
   "cell_type": "code",
   "execution_count": 1,
   "metadata": {},
   "outputs": [],
   "source": [
    "from pathlib import Path\n",
    "import pickle\n",
    "import ipdb\n",
    "import networkx as nx\n",
    "import matplotlib.pyplot as plt\n",
    "import numpy as np\n",
    "from tqdm import tqdm"
   ]
  },
  {
   "cell_type": "code",
   "execution_count": null,
   "metadata": {},
   "outputs": [],
   "source": [
    "dir_path = Path(\"/home/chenhaojun/DIffUCO/Checkpoints/z5xmvb6v/visualization/0\")\n",
    "\n",
    "jgraph_path = dir_path / \"jgraph.pkl\"\n",
    "solution_path = dir_path / \"solution.pkl\"\n",
    "\n",
    "with open(jgraph_path, 'rb') as f:\n",
    "    jgraph = pickle.load(f)\n",
    "\n",
    "with open(solution_path, 'rb') as f:\n",
    "    solution = pickle.load(f)\n",
    "\n",
    "\n",
    "G = nx.DiGraph()\n",
    "for i, nodes in enumerate(jgraph.nodes):\n",
    "    G.add_node(i)\n",
    "    \n",
    "for send, receive in zip(jgraph.senders, jgraph.receivers):\n",
    "    G.add_edge(send, receive)\n",
    "\n",
    "independent_set = solution.flatten()[:len(jgraph.nodes)]\n",
    "node_colors = ['red' if independent_set[i] == 1 else 'black' for i in range(len(independent_set))]\n",
    "\n",
    "\n",
    "pos = nx.spring_layout(G) \n",
    "nx.draw(G, pos, node_color=node_colors, with_labels=True, node_size=len(node_colors), font_color='white')\n",
    "\n",
    "# # 保存图到文件\n",
    "# plt.savefig(\"MIS.png\")\n",
    "# plt.close()"
   ]
  },
  {
   "cell_type": "code",
   "execution_count": 2,
   "metadata": {},
   "outputs": [],
   "source": [
    "def is_independent_set(jgraph, independent_set):\n",
    "    is_MIS = True\n",
    "    for send, receive in zip(jgraph.senders, jgraph.receivers):\n",
    "        if independent_set[send] == 1 and independent_set[receive] == 1:\n",
    "            is_MIS = False\n",
    "    # if is_MIS:\n",
    "    #     print(f\"The size is {sum(independent_set)}\")\n",
    "    return is_MIS"
   ]
  },
  {
   "cell_type": "code",
   "execution_count": 5,
   "metadata": {},
   "outputs": [
    {
     "name": "stderr",
     "output_type": "stream",
     "text": [
      "0it [00:00, ?it/s]"
     ]
    },
    {
     "name": "stdout",
     "output_type": "stream",
     "text": [
      "solution 's size=1021\n"
     ]
    },
    {
     "name": "stderr",
     "output_type": "stream",
     "text": [
      "1it [00:49, 49.66s/it]"
     ]
    },
    {
     "name": "stdout",
     "output_type": "stream",
     "text": [
      "solution 's size=1021\n"
     ]
    },
    {
     "name": "stderr",
     "output_type": "stream",
     "text": [
      "2it [01:53, 57.71s/it]"
     ]
    },
    {
     "name": "stdout",
     "output_type": "stream",
     "text": [
      "solution 's size=1021\n"
     ]
    },
    {
     "name": "stderr",
     "output_type": "stream",
     "text": [
      "3it [03:11, 67.35s/it]"
     ]
    },
    {
     "name": "stdout",
     "output_type": "stream",
     "text": [
      "solution 's size=1021\n"
     ]
    },
    {
     "name": "stderr",
     "output_type": "stream",
     "text": [
      "4it [04:21, 68.21s/it]"
     ]
    },
    {
     "name": "stdout",
     "output_type": "stream",
     "text": [
      "solution 's size=1021\n"
     ]
    },
    {
     "name": "stderr",
     "output_type": "stream",
     "text": [
      "5it [05:38, 71.37s/it]"
     ]
    },
    {
     "name": "stdout",
     "output_type": "stream",
     "text": [
      "solution 's size=1021\n"
     ]
    },
    {
     "name": "stderr",
     "output_type": "stream",
     "text": [
      "6it [06:42, 68.86s/it]"
     ]
    },
    {
     "name": "stdout",
     "output_type": "stream",
     "text": [
      "solution 's size=1021\n"
     ]
    },
    {
     "name": "stderr",
     "output_type": "stream",
     "text": [
      "7it [07:44, 66.73s/it]"
     ]
    },
    {
     "name": "stdout",
     "output_type": "stream",
     "text": [
      "solution 's size=1021\n"
     ]
    },
    {
     "name": "stderr",
     "output_type": "stream",
     "text": [
      "8it [08:39, 62.79s/it]"
     ]
    },
    {
     "name": "stdout",
     "output_type": "stream",
     "text": [
      "solution 's size=1021\n"
     ]
    },
    {
     "name": "stderr",
     "output_type": "stream",
     "text": [
      "9it [09:32, 59.91s/it]"
     ]
    },
    {
     "name": "stdout",
     "output_type": "stream",
     "text": [
      "solution 's size=1021\n"
     ]
    },
    {
     "name": "stderr",
     "output_type": "stream",
     "text": [
      "10it [10:26, 58.02s/it]"
     ]
    },
    {
     "name": "stdout",
     "output_type": "stream",
     "text": [
      "solution 's size=1021\n"
     ]
    },
    {
     "name": "stderr",
     "output_type": "stream",
     "text": [
      "11it [11:20, 56.91s/it]"
     ]
    },
    {
     "name": "stdout",
     "output_type": "stream",
     "text": [
      "solution 's size=1021\n"
     ]
    },
    {
     "name": "stderr",
     "output_type": "stream",
     "text": [
      "12it [12:21, 61.82s/it]"
     ]
    },
    {
     "name": "stdout",
     "output_type": "stream",
     "text": [
      "cnt=[]\n",
      "tot_nodes=[]\n"
     ]
    },
    {
     "name": "stderr",
     "output_type": "stream",
     "text": [
      "\n"
     ]
    }
   ],
   "source": [
    "# def calc_IS_size():\n",
    "#     path = \"\"\n",
    "# path = Path(\"/home/chenhaojun/DIffUCO/Checkpoints/z5xmvb6v/visualization\")\n",
    "# path = Path(\"/home/chenhaojun/DIffUCO/Checkpoints/xvrrfwsg/visualization\")\n",
    "# path = Path(\"/home/chenhaojun/DIffUCO/Checkpoints/xvrrfwsg/visualization_KS_3_1000\")\n",
    "path = Path(\"/home/chenhaojun/DIffUCO/Checkpoints/spcrakpu/visualization_KS_3_1000\")\n",
    "cnt = []\n",
    "tot_nodes = []\n",
    "for graph_dir in tqdm(path.iterdir()):\n",
    "    jgraph_path = graph_dir / \"jgraph.pkl\"\n",
    "    solution_path = graph_dir / \"solution.pkl\"\n",
    "\n",
    "    with open(jgraph_path, 'rb') as f:\n",
    "        jgraph = pickle.load(f)\n",
    "\n",
    "    with open(solution_path, 'rb') as f:\n",
    "        solution = pickle.load(f)\n",
    "\n",
    "    G = nx.DiGraph()\n",
    "    for i, nodes in enumerate(jgraph.nodes):\n",
    "        G.add_node(i)\n",
    "        \n",
    "    for send, receive in zip(jgraph.senders, jgraph.receivers):\n",
    "        G.add_edge(send, receive)\n",
    "    \n",
    "    print(f\"solution 's size={len(solution.flatten())}\")\n",
    "\n",
    "    independent_set = solution.flatten()[:len(jgraph.nodes)]\n",
    "    if is_independent_set(jgraph, independent_set):\n",
    "        cnt.append(sum(independent_set))\n",
    "        tot_nodes.append(len(independent_set))\n",
    "    # cnt.append(sum(independent_set))\n",
    "    # tot_nodes.append(len(independent_set))\n",
    "cnt = np.array([np.array(ele) for ele in cnt])\n",
    "print(f\"cnt={cnt}\")\n",
    "print(f\"tot_nodes={tot_nodes}\")"
   ]
  },
  {
   "cell_type": "code",
   "execution_count": 10,
   "metadata": {},
   "outputs": [
    {
     "data": {
      "text/plain": [
       "1193"
      ]
     },
     "execution_count": 10,
     "metadata": {},
     "output_type": "execute_result"
    }
   ],
   "source": [
    "len(solution.flatten())"
   ]
  },
  {
   "cell_type": "code",
   "execution_count": null,
   "metadata": {},
   "outputs": [],
   "source": []
  }
 ],
 "metadata": {
  "kernelspec": {
   "display_name": "rayjay_clone",
   "language": "python",
   "name": "python3"
  },
  "language_info": {
   "codemirror_mode": {
    "name": "ipython",
    "version": 3
   },
   "file_extension": ".py",
   "mimetype": "text/x-python",
   "name": "python",
   "nbconvert_exporter": "python",
   "pygments_lexer": "ipython3",
   "version": "3.10.11"
  }
 },
 "nbformat": 4,
 "nbformat_minor": 2
}
