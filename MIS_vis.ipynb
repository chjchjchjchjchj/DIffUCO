{
 "cells": [
  {
   "cell_type": "code",
   "execution_count": 1,
   "metadata": {},
   "outputs": [],
   "source": [
    "from pathlib import Path\n",
    "import pickle\n",
    "import ipdb\n",
    "import networkx as nx\n",
    "import matplotlib.pyplot as plt\n",
    "import numpy as np\n",
    "from tqdm import tqdm\n",
    "import jax.numpy as jnp\n",
    "import os\n",
    "os.environ[\"CUDA_VISIBLE_DEVICES\"] = \"0\""
   ]
  },
  {
   "cell_type": "code",
   "execution_count": 2,
   "metadata": {},
   "outputs": [],
   "source": [
    "def edge_exists(graph, node1, node2):\n",
    "    senders = graph.senders\n",
    "    receivers = graph.receivers\n",
    "    exists = jnp.any((senders == node1) & (receivers == node2))\n",
    "    return exists"
   ]
  },
  {
   "cell_type": "code",
   "execution_count": 3,
   "metadata": {},
   "outputs": [],
   "source": [
    "def is_independent_set(jgraph, independent_set):\n",
    "    # is_MIS = True\n",
    "    # for send, receive in zip(jgraph.senders, jgraph.receivers):\n",
    "    #     if independent_set[send] == 1 and independent_set[receive] == 1:\n",
    "    #         is_MIS = False\n",
    "    # # if is_MIS:\n",
    "    # #     f0.write(f\"The size is {sum(independent_set)}\")\n",
    "    # return is_MIS\n",
    "    senders = jgraph.senders\n",
    "    receivers = jgraph.receivers\n",
    "    n = len(independent_set)\n",
    "    for i in range(n):\n",
    "        for j in range(i, n):\n",
    "            if jnp.any((senders == i) & (receivers == j)):\n",
    "                return False\n",
    "    \n",
    "    return True"
   ]
  },
  {
   "cell_type": "code",
   "execution_count": 4,
   "metadata": {},
   "outputs": [],
   "source": [
    "def count_voilate(jgraph, independent_set):\n",
    "    is_MIS = True\n",
    "    edges = []\n",
    "    voilate_cnt = 0\n",
    "    for send, receive in zip(jgraph.senders, jgraph.receivers):\n",
    "        if (send, receive) in edges or (receive, send) in edges:\n",
    "            continue\n",
    "        edges.append((send, receive))\n",
    "        if independent_set[send] == 1 and independent_set[receive] == 1:\n",
    "            voilate_cnt += 1\n",
    "    return voilate_cnt"
   ]
  },
  {
   "cell_type": "code",
   "execution_count": 5,
   "metadata": {},
   "outputs": [
    {
     "name": "stderr",
     "output_type": "stream",
     "text": [
      "0it [00:00, ?it/s]"
     ]
    },
    {
     "name": "stderr",
     "output_type": "stream",
     "text": [
      "2024-07-29 12:37:44.214835: W external/xla/xla/service/gpu/nvptx_compiler.cc:765] The NVIDIA driver's CUDA version is 12.4 which is older than the ptxas CUDA version (12.5.82). Because the driver is older than the ptxas version, XLA is disabling parallel compilation, which may slow down compilation. You should update your NVIDIA driver or use the NVIDIA-provided CUDA forward compatibility packages.\n",
      "13it [00:19,  1.48s/it]\n"
     ]
    }
   ],
   "source": [
    "# def calc_IS_size():\n",
    "#     path = \"\"\n",
    "# path = Path(\"/home/chenhaojun/DIffUCO/Checkpoints/z5xmvb6v/visualization\")\n",
    "# path = Path(\"/home/chenhaojun/DIffUCO/Checkpoints/xvrrfwsg/visualization\")\n",
    "# path = Path(\"/home/chenhaojun/DIffUCO/Checkpoints/xvrrfwsg/visualization_KS_3_1000\")\n",
    "# path = Path(\"/home/chenhaojun/DIffUCO/Checkpoints/spcrakpu/visualization_KS_3_1000\")\n",
    "# path = Path(\"/home/haojun/DIffUCO/Checkpoints/71qtteyy/visualization_KS_3_1000_train\")\n",
    "# path = Path(\"/home/haojun/DIffUCO/Checkpoints/ojqw39ks/visualization_KS_3_1000_train/4x5\")\n",
    "# path = Path(\"/home/haojun/DIffUCO/Checkpoints/f3ad84ee/visualization_KS_one_3_1000/6x5\")\n",
    "# path = Path(\"/home/haojun/DIffUCO/Checkpoints/2cdb71a6/visualization_KS_one_3_1000/6x5\")\n",
    "# path = Path(\"/home/haojun/DIffUCO/Checkpoints/2a4a042f/visualization_KS_one_3_1000/6x3\")\n",
    "# path = Path(\"/home/haojun/DIffUCO/Checkpoints/2efec818/visualization_KS_one_3_1000/4x3\")\n",
    "# path = Path(\"/home/haojun/DIffUCO/Checkpoints/spcrakpu/visualization_KS_one_3_1000/3x8\")\n",
    "# path = Path(\"/home/haojun/DIffUCO/Checkpoints/spcrakpu/visualization_KS_one_3_1000/3x20\")\n",
    "# path = Path(\"/home/haojun/DIffUCO/Checkpoints/f53af0da/visualization_KS_5_5000/4x5\")\n",
    "# path = Path(\"/home/haojun/DIffUCO/Checkpoints/0ba01942/visualization_KS_5_5000/4x4\")\n",
    "# path = Path(\"/home/haojun/DIffUCO/Checkpoints/026ae66b/visualization_KS_5_5000/8x5\")\n",
    "# path = Path(\"/home/haojun/DIffUCO/Checkpoints/2992ad1d/visualization_KS_5_5000/4x3\")\n",
    "path = Path(\"/home/haojun/DIffUCO/Checkpoints/31e75545/visualization_KS_5_5000/4x3\")\n",
    "cnt = []\n",
    "tot_nodes = []\n",
    "iter = 0\n",
    "log_path = path / \"log.txt\"\n",
    "with open(log_path, 'w+') as f0:\n",
    "    for graph_dir in tqdm(path.iterdir()):\n",
    "        if not graph_dir.is_dir():\n",
    "            continue\n",
    "        f0.write(f\"graph_dir={graph_dir}\\n\")\n",
    "\n",
    "        jgraph_path = graph_dir / \"jgraph.pkl\"\n",
    "        solution_path = graph_dir / \"solution.pkl\"\n",
    "\n",
    "        with open(jgraph_path, 'rb') as f:\n",
    "            jgraph = pickle.load(f)\n",
    "\n",
    "        with open(solution_path, 'rb') as f:\n",
    "            solution = pickle.load(f)\n",
    "\n",
    "        # G = nx.DiGraph()\n",
    "        # for i, nodes in enumerate(jgraph.nodes):\n",
    "        #     G.add_node(i)\n",
    "            \n",
    "        # for send, receive in zip(jgraph.senders, jgraph.receivers):\n",
    "        #     G.add_edge(send, receive)\n",
    "        \n",
    "        # f0.write(f\"solution 's size={len(solution.flatten())}\")\n",
    "        f0.write(f\"iter: {iter}\\n\")\n",
    "        iter += 1\n",
    "\n",
    "        independent_set = solution.flatten()[:len(jgraph.nodes)]\n",
    "\n",
    "        cnt.append(sum(independent_set))\n",
    "        tot_nodes.append(len(independent_set))\n",
    "        # f0.write(f\"the number of violate edges = {count_voilate(jgraph, independent_set)}\")\n",
    "        f0.write(f\"size of independent set = {sum(independent_set)}\\n\")\n",
    "        f0.write(f\"size of nodes = {len(independent_set)}\\n\")\n",
    "        voilate_edges = []\n",
    "        senders = jgraph.senders\n",
    "        receivers = jgraph.receivers\n",
    "        independent_set_true_idx = jnp.nonzero(independent_set)[0]\n",
    "        n = len(independent_set_true_idx)\n",
    "        voilate_cnt = 0\n",
    "        f0.write(f\"independent_set_true_idx={independent_set_true_idx}\\n\")\n",
    "        voilate_idx = []\n",
    "        for i in range(n):\n",
    "            for j in range(i + 1, n):\n",
    "                a = independent_set_true_idx[i]\n",
    "                b = independent_set_true_idx[j]\n",
    "                if jnp.any((senders == a) & (receivers == b)):\n",
    "                    voilate_cnt += 1\n",
    "                    voilate_edges.append((a.item(), b.item()))\n",
    "                    if not a.item() in voilate_idx: voilate_idx.append(a.item())\n",
    "                    if not b.item() in voilate_idx: voilate_idx.append(b.item())\n",
    "                elif jnp.any((senders == b) & (receivers == a)):\n",
    "                    voilate_cnt += 1\n",
    "                    voilate_edges.append((b.item(), a.item()))\n",
    "                    if not a.item() in voilate_idx: voilate_idx.append(a.item())\n",
    "                    if not b.item() in voilate_idx: voilate_idx.append(b.item())\n",
    "        f0.write(f\"voilate_idx={voilate_idx}\\n\")\n",
    "        f0.write(f\"voilate_cnt={voilate_cnt}\\n\")\n",
    "        f0.write(f\"After eliminating, solution_size={sum(independent_set) - len(voilate_idx)}\\n\")\n",
    "        voilate_path = graph_dir / \"voilate.pkl\"\n",
    "        with open(str(voilate_path), 'wb') as f2:\n",
    "            pickle.dump(voilate_edges, f2)\n",
    "        f0.write(f\"-\" * 8 + '\\n')\n",
    "    "
   ]
  },
  {
   "cell_type": "code",
   "execution_count": null,
   "metadata": {},
   "outputs": [],
   "source": []
  }
 ],
 "metadata": {
  "kernelspec": {
   "display_name": "rayjay_clone",
   "language": "python",
   "name": "python3"
  },
  "language_info": {
   "codemirror_mode": {
    "name": "ipython",
    "version": 3
   },
   "file_extension": ".py",
   "mimetype": "text/x-python",
   "name": "python",
   "nbconvert_exporter": "python",
   "pygments_lexer": "ipython3",
   "version": "3.10.11"
  }
 },
 "nbformat": 4,
 "nbformat_minor": 2
}
